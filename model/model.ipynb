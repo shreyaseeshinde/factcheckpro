{
 "cells": [
  {
   "cell_type": "code",
   "execution_count": 1,
   "metadata": {
    "execution": {
     "iopub.execute_input": "2024-11-14T07:00:14.240848Z",
     "iopub.status.busy": "2024-11-14T07:00:14.240521Z",
     "iopub.status.idle": "2024-11-14T07:01:05.190455Z",
     "shell.execute_reply": "2024-11-14T07:01:05.189438Z",
     "shell.execute_reply.started": "2024-11-14T07:00:14.240816Z"
    },
    "trusted": true
   },
   "outputs": [
    {
     "name": "stderr",
     "output_type": "stream",
     "text": [
      "c:\\Users\\Admin\\miniconda3\\envs\\pytorch_env\\Lib\\site-packages\\tqdm\\auto.py:21: TqdmWarning: IProgress not found. Please update jupyter and ipywidgets. See https://ipywidgets.readthedocs.io/en/stable/user_install.html\n",
      "  from .autonotebook import tqdm as notebook_tqdm\n"
     ]
    }
   ],
   "source": [
    "import pandas as pd\n",
    "from sklearn.preprocessing import LabelEncoder\n",
    "from sklearn.model_selection import train_test_split\n",
    "from transformers import BertTokenizer, BertForSequenceClassification, Trainer, TrainingArguments\n",
    "from datasets import Dataset\n",
    "from sklearn.metrics import accuracy_score, classification_report\n",
    "import torch"
   ]
  },
  {
   "cell_type": "code",
   "execution_count": 2,
   "metadata": {},
   "outputs": [
    {
     "name": "stdout",
     "output_type": "stream",
     "text": [
      "Using device: cuda\n"
     ]
    }
   ],
   "source": [
    "# Check if GPU is available and use it if possible\n",
    "device = torch.device(\"cuda\" if torch.cuda.is_available() else \"cpu\")\n",
    "print(f\"Using device: {device}\")"
   ]
  },
  {
   "cell_type": "code",
   "execution_count": 3,
   "metadata": {
    "execution": {
     "iopub.execute_input": "2024-11-14T07:01:05.192261Z",
     "iopub.status.busy": "2024-11-14T07:01:05.191550Z",
     "iopub.status.idle": "2024-11-14T07:01:06.733580Z",
     "shell.execute_reply": "2024-11-14T07:01:06.732713Z",
     "shell.execute_reply.started": "2024-11-14T07:01:05.192231Z"
    },
    "trusted": true
   },
   "outputs": [],
   "source": [
    "# Load the cleaned training data\n",
    "train_df = pd.read_csv(\"train_cleaned_consolidated.csv\")"
   ]
  },
  {
   "cell_type": "code",
   "execution_count": 4,
   "metadata": {
    "execution": {
     "iopub.execute_input": "2024-11-14T07:01:06.735745Z",
     "iopub.status.busy": "2024-11-14T07:01:06.735446Z",
     "iopub.status.idle": "2024-11-14T07:01:06.757064Z",
     "shell.execute_reply": "2024-11-14T07:01:06.756269Z",
     "shell.execute_reply.started": "2024-11-14T07:01:06.735702Z"
    },
    "trusted": true
   },
   "outputs": [
    {
     "name": "stdout",
     "output_type": "stream",
     "text": [
      "['False' 'Mostly False' 'Mostly True' 'True' 'Unverified/Mixed']\n"
     ]
    }
   ],
   "source": [
    "# Split the data into training and test sets (stratified)\n",
    "train_data, test_data = train_test_split(train_df, test_size=0.2, stratify=train_df['label'])\n",
    "\n",
    "# Initialize the LabelEncoder to convert labels from strings to integers\n",
    "label_encoder = LabelEncoder()\n",
    "\n",
    "# Fit and transform the training labels and transform the test labels\n",
    "train_data['label'] = label_encoder.fit_transform(train_data['label'])\n",
    "test_data['label'] = label_encoder.transform(test_data['label'])\n",
    "print(label_encoder.classes_)"
   ]
  },
  {
   "cell_type": "code",
   "execution_count": 5,
   "metadata": {
    "execution": {
     "iopub.execute_input": "2024-11-14T07:01:06.758256Z",
     "iopub.status.busy": "2024-11-14T07:01:06.758000Z",
     "iopub.status.idle": "2024-11-14T07:01:07.427672Z",
     "shell.execute_reply": "2024-11-14T07:01:07.426783Z",
     "shell.execute_reply.started": "2024-11-14T07:01:06.758229Z"
    },
    "trusted": true
   },
   "outputs": [],
   "source": [
    "# Convert to Hugging Face Datasets\n",
    "train_dataset = Dataset.from_pandas(train_data)\n",
    "test_dataset = Dataset.from_pandas(test_data)"
   ]
  },
  {
   "cell_type": "code",
   "execution_count": 6,
   "metadata": {
    "execution": {
     "iopub.execute_input": "2024-11-14T07:01:07.429145Z",
     "iopub.status.busy": "2024-11-14T07:01:07.428849Z",
     "iopub.status.idle": "2024-11-14T07:01:08.031757Z",
     "shell.execute_reply": "2024-11-14T07:01:08.030929Z",
     "shell.execute_reply.started": "2024-11-14T07:01:07.429116Z"
    },
    "trusted": true
   },
   "outputs": [],
   "source": [
    "# Load the BERT tokenizer\n",
    "tokenizer = BertTokenizer.from_pretrained('bert-base-uncased')"
   ]
  },
  {
   "cell_type": "code",
   "execution_count": 7,
   "metadata": {
    "execution": {
     "iopub.execute_input": "2024-11-14T07:01:08.033061Z",
     "iopub.status.busy": "2024-11-14T07:01:08.032789Z",
     "iopub.status.idle": "2024-11-14T07:01:08.036910Z",
     "shell.execute_reply": "2024-11-14T07:01:08.036239Z",
     "shell.execute_reply.started": "2024-11-14T07:01:08.033034Z"
    },
    "trusted": true
   },
   "outputs": [],
   "source": [
    "# Tokenize the text column\n",
    "def tokenize_function(examples):\n",
    "    return tokenizer(examples['claim'], padding=\"max_length\", truncation=True)"
   ]
  },
  {
   "cell_type": "code",
   "execution_count": 8,
   "metadata": {
    "execution": {
     "iopub.execute_input": "2024-11-14T07:01:08.038047Z",
     "iopub.status.busy": "2024-11-14T07:01:08.037807Z",
     "iopub.status.idle": "2024-11-14T07:01:17.989618Z",
     "shell.execute_reply": "2024-11-14T07:01:17.988848Z",
     "shell.execute_reply.started": "2024-11-14T07:01:08.038022Z"
    },
    "trusted": true
   },
   "outputs": [
    {
     "name": "stderr",
     "output_type": "stream",
     "text": [
      "Map: 100%|██████████| 10540/10540 [00:04<00:00, 2515.79 examples/s]\n",
      "Map: 100%|██████████| 2636/2636 [00:01<00:00, 2633.53 examples/s]\n"
     ]
    }
   ],
   "source": [
    "train_dataset = train_dataset.map(tokenize_function, batched=True)\n",
    "test_dataset = test_dataset.map(tokenize_function, batched=True)"
   ]
  },
  {
   "cell_type": "code",
   "execution_count": 9,
   "metadata": {
    "execution": {
     "iopub.execute_input": "2024-11-14T07:01:17.990998Z",
     "iopub.status.busy": "2024-11-14T07:01:17.990698Z",
     "iopub.status.idle": "2024-11-14T07:01:20.478843Z",
     "shell.execute_reply": "2024-11-14T07:01:20.478028Z",
     "shell.execute_reply.started": "2024-11-14T07:01:17.990968Z"
    },
    "trusted": true
   },
   "outputs": [
    {
     "name": "stderr",
     "output_type": "stream",
     "text": [
      "Some weights of BertForSequenceClassification were not initialized from the model checkpoint at bert-base-uncased and are newly initialized: ['classifier.bias', 'classifier.weight']\n",
      "You should probably TRAIN this model on a down-stream task to be able to use it for predictions and inference.\n"
     ]
    }
   ],
   "source": [
    "# Load the BERT model for classification (5 labels in this case)\n",
    "model = BertForSequenceClassification.from_pretrained('bert-base-uncased', num_labels=5).to(device)"
   ]
  },
  {
   "cell_type": "code",
   "execution_count": 10,
   "metadata": {
    "execution": {
     "iopub.execute_input": "2024-11-14T07:01:20.481432Z",
     "iopub.status.busy": "2024-11-14T07:01:20.481086Z",
     "iopub.status.idle": "2024-11-14T07:01:26.687860Z",
     "shell.execute_reply": "2024-11-14T07:01:26.686700Z",
     "shell.execute_reply.started": "2024-11-14T07:01:20.481398Z"
    },
    "trusted": true
   },
   "outputs": [],
   "source": [
    "# Set up training arguments\n",
    "training_args = TrainingArguments(\n",
    "    output_dir='./results',          # output directory\n",
    "    eval_strategy=\"epoch\",           # evaluation strategy\n",
    "    learning_rate=2e-5,              # learning rate\n",
    "    per_device_train_batch_size=16,   # batch size for training\n",
    "    per_device_eval_batch_size=16,    # batch size for evaluation\n",
    "    num_train_epochs=10,              # number of epochs\n",
    "    weight_decay=0.01,               # strength of weight decay\n",
    "    logging_dir='./logs',            # directory for logs\n",
    ")"
   ]
  },
  {
   "cell_type": "code",
   "execution_count": 11,
   "metadata": {
    "execution": {
     "iopub.execute_input": "2024-11-14T07:01:26.689207Z",
     "iopub.status.busy": "2024-11-14T07:01:26.688918Z",
     "iopub.status.idle": "2024-11-14T07:01:26.980336Z",
     "shell.execute_reply": "2024-11-14T07:01:26.979470Z",
     "shell.execute_reply.started": "2024-11-14T07:01:26.689177Z"
    },
    "trusted": true
   },
   "outputs": [
    {
     "name": "stderr",
     "output_type": "stream",
     "text": [
      "C:\\Users\\Admin\\AppData\\Local\\Temp\\ipykernel_16764\\30279656.py:2: FutureWarning: `tokenizer` is deprecated and will be removed in version 5.0.0 for `Trainer.__init__`. Use `processing_class` instead.\n",
      "  trainer = Trainer(\n"
     ]
    }
   ],
   "source": [
    "# Set up the Trainer\n",
    "trainer = Trainer(\n",
    "    model=model,                         # model to train\n",
    "    args=training_args,                  # training arguments\n",
    "    train_dataset=train_dataset,         # training dataset\n",
    "    eval_dataset=test_dataset,           # evaluation dataset (test set)\n",
    "    tokenizer=tokenizer,                 # tokenizer for the model\n",
    "    compute_metrics=lambda p: {\"accuracy\": accuracy_score(p.label_ids, p.predictions.argmax(-1))}\n",
    ")"
   ]
  },
  {
   "cell_type": "code",
   "execution_count": 12,
   "metadata": {
    "execution": {
     "iopub.execute_input": "2024-11-14T07:01:26.981745Z",
     "iopub.status.busy": "2024-11-14T07:01:26.981438Z"
    },
    "trusted": true
   },
   "outputs": [
    {
     "name": "stderr",
     "output_type": "stream",
     "text": [
      "  0%|          | 0/6590 [00:00<?, ?it/s]c:\\Users\\Admin\\miniconda3\\envs\\pytorch_env\\Lib\\site-packages\\transformers\\models\\bert\\modeling_bert.py:440: UserWarning: 1Torch was not compiled with flash attention. (Triggered internally at C:\\cb\\pytorch_1000000000000\\work\\aten\\src\\ATen\\native\\transformers\\cuda\\sdp_utils.cpp:555.)\n",
      "  attn_output = torch.nn.functional.scaled_dot_product_attention(\n",
      "  8%|▊         | 500/6590 [10:00<1:41:46,  1.00s/it]"
     ]
    },
    {
     "name": "stdout",
     "output_type": "stream",
     "text": [
      "{'loss': 1.3217, 'grad_norm': 4.394057273864746, 'learning_rate': 1.8482549317147193e-05, 'epoch': 0.76}\n"
     ]
    },
    {
     "name": "stderr",
     "output_type": "stream",
     "text": [
      "                                                    \n",
      " 10%|█         | 659/6590 [13:35<1:32:00,  1.07it/s]"
     ]
    },
    {
     "name": "stdout",
     "output_type": "stream",
     "text": [
      "{'eval_loss': 1.259735107421875, 'eval_accuracy': 0.4264036418816389, 'eval_runtime': 54.3715, 'eval_samples_per_second': 48.481, 'eval_steps_per_second': 3.035, 'epoch': 1.0}\n"
     ]
    },
    {
     "name": "stderr",
     "output_type": "stream",
     "text": [
      " 15%|█▌        | 1000/6590 [19:16<1:33:02,  1.00it/s]"
     ]
    },
    {
     "name": "stdout",
     "output_type": "stream",
     "text": [
      "{'loss': 1.193, 'grad_norm': 6.948202610015869, 'learning_rate': 1.6965098634294384e-05, 'epoch': 1.52}\n"
     ]
    },
    {
     "name": "stderr",
     "output_type": "stream",
     "text": [
      "                                                     \n",
      " 20%|██        | 1318/6590 [25:28<1:21:26,  1.08it/s]"
     ]
    },
    {
     "name": "stdout",
     "output_type": "stream",
     "text": [
      "{'eval_loss': 1.2287671566009521, 'eval_accuracy': 0.44840667678300455, 'eval_runtime': 53.7015, 'eval_samples_per_second': 49.086, 'eval_steps_per_second': 3.073, 'epoch': 2.0}\n"
     ]
    },
    {
     "name": "stderr",
     "output_type": "stream",
     "text": [
      " 23%|██▎       | 1500/6590 [28:30<1:24:19,  1.01it/s] "
     ]
    },
    {
     "name": "stdout",
     "output_type": "stream",
     "text": [
      "{'loss': 1.0883, 'grad_norm': 7.995899200439453, 'learning_rate': 1.544764795144158e-05, 'epoch': 2.28}\n"
     ]
    },
    {
     "name": "stderr",
     "output_type": "stream",
     "text": [
      "                                                     \n",
      " 30%|███       | 1977/6590 [37:28<1:11:10,  1.08it/s]"
     ]
    },
    {
     "name": "stdout",
     "output_type": "stream",
     "text": [
      "{'eval_loss': 1.3377177715301514, 'eval_accuracy': 0.44537177541729894, 'eval_runtime': 53.7602, 'eval_samples_per_second': 49.033, 'eval_steps_per_second': 3.069, 'epoch': 3.0}\n"
     ]
    },
    {
     "name": "stderr",
     "output_type": "stream",
     "text": [
      " 30%|███       | 2000/6590 [37:51<1:16:41,  1.00s/it] "
     ]
    },
    {
     "name": "stdout",
     "output_type": "stream",
     "text": [
      "{'loss': 0.9403, 'grad_norm': 11.259115219116211, 'learning_rate': 1.3930197268588772e-05, 'epoch': 3.03}\n"
     ]
    },
    {
     "name": "stderr",
     "output_type": "stream",
     "text": [
      " 38%|███▊      | 2500/6590 [46:11<1:08:11,  1.00s/it]"
     ]
    },
    {
     "name": "stdout",
     "output_type": "stream",
     "text": [
      "{'loss': 0.6672, 'grad_norm': 18.331859588623047, 'learning_rate': 1.2412746585735965e-05, 'epoch': 3.79}\n"
     ]
    },
    {
     "name": "stderr",
     "output_type": "stream",
     "text": [
      "                                                     \n",
      " 40%|████      | 2636/6590 [49:21<1:01:08,  1.08it/s]"
     ]
    },
    {
     "name": "stdout",
     "output_type": "stream",
     "text": [
      "{'eval_loss': 1.6749451160430908, 'eval_accuracy': 0.4002276176024279, 'eval_runtime': 53.532, 'eval_samples_per_second': 49.242, 'eval_steps_per_second': 3.082, 'epoch': 4.0}\n"
     ]
    },
    {
     "name": "stderr",
     "output_type": "stream",
     "text": [
      " 46%|████▌     | 3000/6590 [55:24<59:34,  1.00it/s]   "
     ]
    },
    {
     "name": "stdout",
     "output_type": "stream",
     "text": [
      "{'loss': 0.494, 'grad_norm': 25.059669494628906, 'learning_rate': 1.0895295902883156e-05, 'epoch': 4.55}\n"
     ]
    },
    {
     "name": "stderr",
     "output_type": "stream",
     "text": [
      "                                                     \n",
      " 50%|█████     | 3295/6590 [1:01:12<50:30,  1.09it/s]"
     ]
    },
    {
     "name": "stdout",
     "output_type": "stream",
     "text": [
      "{'eval_loss': 1.8956022262573242, 'eval_accuracy': 0.4381638846737481, 'eval_runtime': 53.3824, 'eval_samples_per_second': 49.38, 'eval_steps_per_second': 3.091, 'epoch': 5.0}\n"
     ]
    },
    {
     "name": "stderr",
     "output_type": "stream",
     "text": [
      " 53%|█████▎    | 3500/6590 [1:04:35<50:57,  1.01it/s]   "
     ]
    },
    {
     "name": "stdout",
     "output_type": "stream",
     "text": [
      "{'loss': 0.3699, 'grad_norm': 13.685911178588867, 'learning_rate': 9.377845220030349e-06, 'epoch': 5.31}\n"
     ]
    },
    {
     "name": "stderr",
     "output_type": "stream",
     "text": [
      "                                                       \n",
      " 60%|██████    | 3954/6590 [1:14:09<48:24,  1.10s/it]"
     ]
    },
    {
     "name": "stdout",
     "output_type": "stream",
     "text": [
      "{'eval_loss': 2.3681514263153076, 'eval_accuracy': 0.4165402124430956, 'eval_runtime': 71.4662, 'eval_samples_per_second': 36.885, 'eval_steps_per_second': 2.309, 'epoch': 6.0}\n"
     ]
    },
    {
     "name": "stderr",
     "output_type": "stream",
     "text": [
      " 61%|██████    | 4000/6590 [1:15:03<50:44,  1.18s/it]   "
     ]
    },
    {
     "name": "stdout",
     "output_type": "stream",
     "text": [
      "{'loss': 0.2654, 'grad_norm': 18.623281478881836, 'learning_rate': 7.860394537177543e-06, 'epoch': 6.07}\n"
     ]
    },
    {
     "name": "stderr",
     "output_type": "stream",
     "text": [
      " 68%|██████▊   | 4500/6590 [1:24:52<35:07,  1.01s/it]  "
     ]
    },
    {
     "name": "stdout",
     "output_type": "stream",
     "text": [
      "{'loss': 0.1933, 'grad_norm': 17.824872970581055, 'learning_rate': 6.3429438543247346e-06, 'epoch': 6.83}\n"
     ]
    },
    {
     "name": "stderr",
     "output_type": "stream",
     "text": [
      "                                                     \n",
      " 70%|███████   | 4613/6590 [1:27:40<30:04,  1.10it/s]"
     ]
    },
    {
     "name": "stdout",
     "output_type": "stream",
     "text": [
      "{'eval_loss': 2.773129940032959, 'eval_accuracy': 0.4184370257966616, 'eval_runtime': 53.3163, 'eval_samples_per_second': 49.441, 'eval_steps_per_second': 3.095, 'epoch': 7.0}\n"
     ]
    },
    {
     "name": "stderr",
     "output_type": "stream",
     "text": [
      " 76%|███████▌  | 5000/6590 [1:34:03<26:10,  1.01it/s]  "
     ]
    },
    {
     "name": "stdout",
     "output_type": "stream",
     "text": [
      "{'loss': 0.1261, 'grad_norm': 13.820586204528809, 'learning_rate': 4.8254931714719275e-06, 'epoch': 7.59}\n"
     ]
    },
    {
     "name": "stderr",
     "output_type": "stream",
     "text": [
      "                                                     \n",
      " 80%|████████  | 5272/6590 [1:39:32<20:34,  1.07it/s]"
     ]
    },
    {
     "name": "stdout",
     "output_type": "stream",
     "text": [
      "{'eval_loss': 3.179141044616699, 'eval_accuracy': 0.40477996965098634, 'eval_runtime': 55.0092, 'eval_samples_per_second': 47.919, 'eval_steps_per_second': 2.999, 'epoch': 8.0}\n"
     ]
    },
    {
     "name": "stderr",
     "output_type": "stream",
     "text": [
      " 83%|████████▎ | 5500/6590 [1:43:23<18:27,  1.02s/it]  "
     ]
    },
    {
     "name": "stdout",
     "output_type": "stream",
     "text": [
      "{'loss': 0.1023, 'grad_norm': 27.41055679321289, 'learning_rate': 3.3080424886191204e-06, 'epoch': 8.35}\n"
     ]
    },
    {
     "name": "stderr",
     "output_type": "stream",
     "text": [
      "                                                     \n",
      " 90%|█████████ | 5931/6590 [1:51:35<10:13,  1.07it/s]"
     ]
    },
    {
     "name": "stdout",
     "output_type": "stream",
     "text": [
      "{'eval_loss': 3.4558138847351074, 'eval_accuracy': 0.4161608497723824, 'eval_runtime': 54.3788, 'eval_samples_per_second': 48.475, 'eval_steps_per_second': 3.034, 'epoch': 9.0}\n"
     ]
    },
    {
     "name": "stderr",
     "output_type": "stream",
     "text": [
      " 91%|█████████ | 6000/6590 [1:52:44<09:54,  1.01s/it]  "
     ]
    },
    {
     "name": "stdout",
     "output_type": "stream",
     "text": [
      "{'loss': 0.0806, 'grad_norm': 0.34029486775398254, 'learning_rate': 1.7905918057663127e-06, 'epoch': 9.1}\n"
     ]
    },
    {
     "name": "stderr",
     "output_type": "stream",
     "text": [
      " 99%|█████████▊| 6500/6590 [2:01:11<01:31,  1.01s/it]"
     ]
    },
    {
     "name": "stdout",
     "output_type": "stream",
     "text": [
      "{'loss': 0.0553, 'grad_norm': 0.9652820825576782, 'learning_rate': 2.7314112291350536e-07, 'epoch': 9.86}\n"
     ]
    },
    {
     "name": "stderr",
     "output_type": "stream",
     "text": [
      "                                                     \n",
      "100%|██████████| 6590/6590 [2:03:37<00:00,  1.13s/it]\n"
     ]
    },
    {
     "name": "stdout",
     "output_type": "stream",
     "text": [
      "{'eval_loss': 3.5620431900024414, 'eval_accuracy': 0.41312594840667677, 'eval_runtime': 54.0115, 'eval_samples_per_second': 48.804, 'eval_steps_per_second': 3.055, 'epoch': 10.0}\n",
      "{'train_runtime': 7417.0699, 'train_samples_per_second': 14.21, 'train_steps_per_second': 0.888, 'train_loss': 0.524141067148883, 'epoch': 10.0}\n"
     ]
    },
    {
     "name": "stderr",
     "output_type": "stream",
     "text": [
      "100%|██████████| 165/165 [00:53<00:00,  3.10it/s]\n"
     ]
    }
   ],
   "source": [
    "# Train the model\n",
    "trainer.train()# Make predictions on the test set\n",
    "predictions = trainer.predict(test_dataset)\n",
    "preds = predictions.predictions.argmax(axis=-1)"
   ]
  },
  {
   "cell_type": "code",
   "execution_count": 13,
   "metadata": {
    "trusted": true
   },
   "outputs": [
    {
     "name": "stdout",
     "output_type": "stream",
     "text": [
      "Accuracy: 0.41312594840667677\n"
     ]
    }
   ],
   "source": [
    "# Calculate accuracy\n",
    "accuracy = accuracy_score(test_dataset['label'], preds)\n",
    "print(f\"Accuracy: {accuracy}\")"
   ]
  },
  {
   "cell_type": "code",
   "execution_count": 14,
   "metadata": {},
   "outputs": [
    {
     "name": "stdout",
     "output_type": "stream",
     "text": [
      "Accuracy: 0.41312594840667677\n"
     ]
    }
   ],
   "source": [
    "# Calculate accuracy\n",
    "accuracy = accuracy_score(test_dataset['label'], preds)\n",
    "print(f\"Accuracy: {accuracy}\")"
   ]
  },
  {
   "cell_type": "code",
   "execution_count": 15,
   "metadata": {},
   "outputs": [
    {
     "name": "stdout",
     "output_type": "stream",
     "text": [
      "Classification Report:\n",
      "                  precision    recall  f1-score   support\n",
      "\n",
      "           False       0.52      0.41      0.46       769\n",
      "    Mostly False       0.44      0.50      0.47       908\n",
      "     Mostly True       0.27      0.36      0.31       480\n",
      "            True       0.28      0.20      0.23       384\n",
      "Unverified/Mixed       0.74      0.73      0.73        95\n",
      "\n",
      "        accuracy                           0.41      2636\n",
      "       macro avg       0.45      0.44      0.44      2636\n",
      "    weighted avg       0.42      0.41      0.41      2636\n",
      "\n"
     ]
    }
   ],
   "source": [
    "# Print a detailed classification report with class labels\n",
    "report = classification_report(test_dataset['label'], preds, target_names=label_encoder.classes_)\n",
    "print(f\"Classification Report:\\n{report}\")"
   ]
  },
  {
   "cell_type": "code",
   "execution_count": 16,
   "metadata": {
    "trusted": true
   },
   "outputs": [
    {
     "name": "stdout",
     "output_type": "stream",
     "text": [
      "Classification Report:\n",
      "              precision    recall  f1-score   support\n",
      "\n",
      "           0       0.52      0.41      0.46       769\n",
      "           1       0.44      0.50      0.47       908\n",
      "           2       0.27      0.36      0.31       480\n",
      "           3       0.28      0.20      0.23       384\n",
      "           4       0.74      0.73      0.73        95\n",
      "\n",
      "    accuracy                           0.41      2636\n",
      "   macro avg       0.45      0.44      0.44      2636\n",
      "weighted avg       0.42      0.41      0.41      2636\n",
      "\n"
     ]
    },
    {
     "data": {
      "text/plain": [
       "('bert_classifier\\\\tokenizer_config.json',\n",
       " 'bert_classifier\\\\special_tokens_map.json',\n",
       " 'bert_classifier\\\\vocab.txt',\n",
       " 'bert_classifier\\\\added_tokens.json')"
      ]
     },
     "execution_count": 16,
     "metadata": {},
     "output_type": "execute_result"
    }
   ],
   "source": [
    "# Print a detailed classification report\n",
    "report = classification_report(test_dataset['label'], preds)\n",
    "print(f\"Classification Report:\\n{report}\")# Save the trained model\n",
    "model.save_pretrained(\"bert_classifier\")\n",
    "tokenizer.save_pretrained(\"bert_classifier\")"
   ]
  }
 ],
 "metadata": {
  "kaggle": {
   "accelerator": "tpu1vmV38",
   "dataSources": [
    {
     "datasetId": 6082630,
     "sourceId": 9901720,
     "sourceType": "datasetVersion"
    }
   ],
   "dockerImageVersionId": 30788,
   "isGpuEnabled": false,
   "isInternetEnabled": true,
   "language": "python",
   "sourceType": "notebook"
  },
  "kernelspec": {
   "display_name": "pytorch_env",
   "language": "python",
   "name": "python3"
  },
  "language_info": {
   "codemirror_mode": {
    "name": "ipython",
    "version": 3
   },
   "file_extension": ".py",
   "mimetype": "text/x-python",
   "name": "python",
   "nbconvert_exporter": "python",
   "pygments_lexer": "ipython3",
   "version": "3.11.10"
  }
 },
 "nbformat": 4,
 "nbformat_minor": 4
}
